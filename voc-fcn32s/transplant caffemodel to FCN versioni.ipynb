{
 "cells": [
  {
   "cell_type": "code",
   "execution_count": 1,
   "metadata": {
    "collapsed": true
   },
   "outputs": [],
   "source": [
    "import _init_paths\n",
    "import caffe\n",
    "import surgery"
   ]
  },
  {
   "cell_type": "code",
   "execution_count": 3,
   "metadata": {
    "collapsed": false
   },
   "outputs": [],
   "source": [
    "weights = '/home/ubuntu/fcn.berkeleyvision.org/ilsvrc-nets/VGG_ILSVRC_16_layers.caffemodel'\n",
    "solver_ori = caffe.SGDSolver('solve_ori.prototxt')"
   ]
  },
  {
   "cell_type": "code",
   "execution_count": 4,
   "metadata": {
    "collapsed": true
   },
   "outputs": [],
   "source": [
    "solver = caffe.SGDSolver('solver.prototxt')"
   ]
  },
  {
   "cell_type": "code",
   "execution_count": 5,
   "metadata": {
    "collapsed": true
   },
   "outputs": [],
   "source": [
    "solver_ori.net.copy_from(weights)"
   ]
  },
  {
   "cell_type": "code",
   "execution_count": 7,
   "metadata": {
    "collapsed": true
   },
   "outputs": [],
   "source": [
    "from IPython.core.interactiveshell import InteractiveShell\n",
    "InteractiveShell.ast_node_interactivity = \"all\""
   ]
  },
  {
   "cell_type": "code",
   "execution_count": 8,
   "metadata": {
    "collapsed": true
   },
   "outputs": [],
   "source": [
    "del solver_ori"
   ]
  },
  {
   "cell_type": "code",
   "execution_count": 9,
   "metadata": {
    "collapsed": false
   },
   "outputs": [
    {
     "name": "stdout",
     "output_type": "stream",
     "text": [
      "VGG16.prototxt                  \u001b[0m\u001b[01;32msolve.py\u001b[0m*\r\n",
      "_init_paths.py                  solve_ori.prototxt\r\n",
      "_init_paths.pyc                 solver.prototxt\r\n",
      "caffemodel-url                  train.prototxt\r\n",
      "fcn32s-heavy-pascal.caffemodel  transplant caffemodel to FCN versioni.ipynb\r\n",
      "net.py                          val.prototxt\r\n",
      "\u001b[01;34msnapshot\u001b[0m/\r\n"
     ]
    }
   ],
   "source": [
    "ls"
   ]
  },
  {
   "cell_type": "code",
   "execution_count": 11,
   "metadata": {
    "collapsed": false
   },
   "outputs": [],
   "source": [
    "net_ori = caffe.Net('VGG16.prototxt', weights, caffe.TEST)"
   ]
  },
  {
   "cell_type": "code",
   "execution_count": 12,
   "metadata": {
    "collapsed": false
   },
   "outputs": [
    {
     "name": "stdout",
     "output_type": "stream",
     "text": [
      "copying conv1_1  ->  conv1_1 0\n",
      "copying conv1_1  ->  conv1_1 1\n",
      "copying conv1_2  ->  conv1_2 0\n",
      "copying conv1_2  ->  conv1_2 1\n",
      "copying conv2_1  ->  conv2_1 0\n",
      "copying conv2_1  ->  conv2_1 1\n",
      "copying conv2_2  ->  conv2_2 0\n",
      "copying conv2_2  ->  conv2_2 1\n",
      "copying conv3_1  ->  conv3_1 0\n",
      "copying conv3_1  ->  conv3_1 1\n",
      "copying conv3_2  ->  conv3_2 0\n",
      "copying conv3_2  ->  conv3_2 1\n",
      "copying conv3_3  ->  conv3_3 0\n",
      "copying conv3_3  ->  conv3_3 1\n",
      "copying conv4_1  ->  conv4_1 0\n",
      "copying conv4_1  ->  conv4_1 1\n",
      "copying conv4_2  ->  conv4_2 0\n",
      "copying conv4_2  ->  conv4_2 1\n",
      "copying conv4_3  ->  conv4_3 0\n",
      "copying conv4_3  ->  conv4_3 1\n",
      "copying conv5_1  ->  conv5_1 0\n",
      "copying conv5_1  ->  conv5_1 1\n",
      "copying conv5_2  ->  conv5_2 0\n",
      "copying conv5_2  ->  conv5_2 1\n",
      "copying conv5_3  ->  conv5_3 0\n",
      "copying conv5_3  ->  conv5_3 1\n",
      "coercing fc6 0 from (4096, 25088) to (4096, 512, 7, 7)\n",
      "copying fc6  ->  fc6 1\n",
      "coercing fc7 0 from (4096, 4096) to (4096, 4096, 1, 1)\n",
      "copying fc7  ->  fc7 1\n",
      "dropping fc8\n"
     ]
    }
   ],
   "source": [
    "surgery.transplant(solver.net, net_ori)"
   ]
  },
  {
   "cell_type": "code",
   "execution_count": 14,
   "metadata": {
    "collapsed": true
   },
   "outputs": [],
   "source": [
    "    solver.net.save('../ilsvrc-nets/VGG_FCN.caffemodel')"
   ]
  },
  {
   "cell_type": "code",
   "execution_count": 15,
   "metadata": {
    "collapsed": true
   },
   "outputs": [],
   "source": [
    "net_ori.save('../ilsvrc-nets/VGG_ILSVRC_16_layers.caffemodel')"
   ]
  },
  {
   "cell_type": "code",
   "execution_count": null,
   "metadata": {
    "collapsed": true
   },
   "outputs": [],
   "source": []
  }
 ],
 "metadata": {
  "anaconda-cloud": {},
  "kernelspec": {
   "display_name": "Python [default]",
   "language": "python",
   "name": "python2"
  },
  "language_info": {
   "codemirror_mode": {
    "name": "ipython",
    "version": 2
   },
   "file_extension": ".py",
   "mimetype": "text/x-python",
   "name": "python",
   "nbconvert_exporter": "python",
   "pygments_lexer": "ipython2",
   "version": "2.7.12"
  }
 },
 "nbformat": 4,
 "nbformat_minor": 1
}
