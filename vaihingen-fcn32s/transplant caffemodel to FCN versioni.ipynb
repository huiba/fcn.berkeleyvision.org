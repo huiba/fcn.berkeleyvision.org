{
 "cells": [
  {
   "cell_type": "code",
   "execution_count": 1,
   "metadata": {
    "collapsed": false
   },
   "outputs": [
    {
     "name": "stdout",
     "output_type": "stream",
     "text": [
      "../../caffe/python\n"
     ]
    }
   ],
   "source": [
    "import _init_paths\n",
    "import caffe\n",
    "import surgery\n",
    "import os"
   ]
  },
  {
   "cell_type": "code",
   "execution_count": 2,
   "metadata": {
    "collapsed": false
   },
   "outputs": [
    {
     "name": "stdout",
     "output_type": "stream",
     "text": [
      "README.md  VGG16.prototxt  VGG_FCN.caffemodel  VGG_ILSVRC_16_layers.caffemodel\r\n"
     ]
    }
   ],
   "source": [
    "ls ../ilsvrc-nets/"
   ]
  },
  {
   "cell_type": "code",
   "execution_count": 3,
   "metadata": {
    "collapsed": false
   },
   "outputs": [],
   "source": [
    "weights = os.path.abspath('../ilsvrc-nets/VGG_ILSVRC_16_layers.caffemodel')\n",
    "solver_ori = caffe.SGDSolver('solve_ori.prototxt')"
   ]
  },
  {
   "cell_type": "code",
   "execution_count": 2,
   "metadata": {
    "collapsed": false
   },
   "outputs": [],
   "source": [
    "solver = caffe.SGDSolver('solver.prototxt')"
   ]
  },
  {
   "cell_type": "code",
   "execution_count": 3,
   "metadata": {
    "collapsed": false
   },
   "outputs": [
    {
     "data": {
      "text/plain": [
       "OrderedDict([('data', <caffe._caffe.Blob at 0x7fbdcb52d2a8>),\n",
       "             ('label', <caffe._caffe.Blob at 0x7fbdcb52d320>),\n",
       "             ('data_data_0_split_0', <caffe._caffe.Blob at 0x7fbdcb52d398>),\n",
       "             ('data_data_0_split_1', <caffe._caffe.Blob at 0x7fbdcb52d410>),\n",
       "             ('conv1_1', <caffe._caffe.Blob at 0x7fbdcb52d488>),\n",
       "             ('conv1_2', <caffe._caffe.Blob at 0x7fbdcb52d500>),\n",
       "             ('pool1', <caffe._caffe.Blob at 0x7fbdcb52d578>),\n",
       "             ('conv2_1', <caffe._caffe.Blob at 0x7fbdcb52d5f0>),\n",
       "             ('conv2_2', <caffe._caffe.Blob at 0x7fbdcb52d668>),\n",
       "             ('pool2', <caffe._caffe.Blob at 0x7fbdcb52d6e0>),\n",
       "             ('conv3_1', <caffe._caffe.Blob at 0x7fbdcb52d758>),\n",
       "             ('conv3_2', <caffe._caffe.Blob at 0x7fbdcb52d7d0>),\n",
       "             ('conv3_3', <caffe._caffe.Blob at 0x7fbdcb52d848>),\n",
       "             ('pool3', <caffe._caffe.Blob at 0x7fbdcb52d8c0>),\n",
       "             ('conv4_1', <caffe._caffe.Blob at 0x7fbdcb52d938>),\n",
       "             ('conv4_2', <caffe._caffe.Blob at 0x7fbdcb52d9b0>),\n",
       "             ('conv4_3', <caffe._caffe.Blob at 0x7fbdcb52da28>),\n",
       "             ('pool4', <caffe._caffe.Blob at 0x7fbdcb52daa0>),\n",
       "             ('conv5_1', <caffe._caffe.Blob at 0x7fbdcb52db18>),\n",
       "             ('conv5_2', <caffe._caffe.Blob at 0x7fbdcb52db90>),\n",
       "             ('conv5_3', <caffe._caffe.Blob at 0x7fbdcb52dc08>),\n",
       "             ('pool5', <caffe._caffe.Blob at 0x7fbdcb52dc80>),\n",
       "             ('fc6', <caffe._caffe.Blob at 0x7fbdcb52dcf8>),\n",
       "             ('fc7', <caffe._caffe.Blob at 0x7fbdcb52dd70>),\n",
       "             ('score_fr', <caffe._caffe.Blob at 0x7fbdcb52dde8>),\n",
       "             ('upscore', <caffe._caffe.Blob at 0x7fbdcb52de60>),\n",
       "             ('score', <caffe._caffe.Blob at 0x7fbdcb52ded8>),\n",
       "             ('loss', <caffe._caffe.Blob at 0x7fbdcb52df50>)])"
      ]
     },
     "execution_count": 3,
     "metadata": {},
     "output_type": "execute_result"
    }
   ],
   "source": [
    "solver.net.blobs"
   ]
  },
  {
   "cell_type": "code",
   "execution_count": 4,
   "metadata": {
    "collapsed": false
   },
   "outputs": [
    {
     "name": "stdout",
     "output_type": "stream",
     "text": [
      "500\n",
      "22\n",
      "16\n",
      "16\n",
      "16\n",
      "608\n",
      "500\n"
     ]
    }
   ],
   "source": [
    "print solver.net.blobs['data'].shape[2]\n",
    "print solver.net.blobs['pool5'].shape[2]\n",
    "print solver.net.blobs['fc6'].shape[2]\n",
    "print solver.net.blobs['fc7'].shape[2]\n",
    "print solver.net.blobs['score_fr'].shape[2]\n",
    "print solver.net.blobs['upscore'].shape[2]\n",
    "print solver.net.blobs['score'].shape[2]"
   ]
  },
  {
   "cell_type": "code",
   "execution_count": 24,
   "metadata": {
    "collapsed": true
   },
   "outputs": [],
   "source": [
    "solver_ori.net.copy_from(weights)"
   ]
  },
  {
   "cell_type": "code",
   "execution_count": 12,
   "metadata": {
    "collapsed": true
   },
   "outputs": [],
   "source": [
    "from IPython.core.interactiveshell import InteractiveShell\n",
    "InteractiveShell.ast_node_interactivity = \"all\""
   ]
  },
  {
   "cell_type": "code",
   "execution_count": 13,
   "metadata": {
    "collapsed": true
   },
   "outputs": [],
   "source": [
    "del solver_ori"
   ]
  },
  {
   "cell_type": "code",
   "execution_count": 14,
   "metadata": {
    "collapsed": false
   },
   "outputs": [
    {
     "name": "stdout",
     "output_type": "stream",
     "text": [
      "caffemodel-url      solver.prototxt\r\n",
      "_init_paths.py      \u001b[0m\u001b[01;32msolve.sh\u001b[0m*\r\n",
      "_init_paths.py~     train.prototxt\r\n",
      "_init_paths.pyc     train.prototxt~\r\n",
      "\u001b[01;34mlogs\u001b[0m/               transplant caffemodel to FCN versioni.ipynb\r\n",
      "net.py              val.prototxt\r\n",
      "\u001b[01;34msnapshot\u001b[0m/           val.prototxt~\r\n",
      "solve_ori.prototxt  VGG16.prototxt\r\n",
      "\u001b[01;32msolve.py\u001b[0m*\r\n"
     ]
    }
   ],
   "source": [
    "ls"
   ]
  },
  {
   "cell_type": "code",
   "execution_count": 15,
   "metadata": {
    "collapsed": false
   },
   "outputs": [],
   "source": [
    "net_ori = caffe.Net('VGG16.prototxt', weights, caffe.TEST)"
   ]
  },
  {
   "cell_type": "code",
   "execution_count": 16,
   "metadata": {
    "collapsed": false
   },
   "outputs": [
    {
     "name": "stdout",
     "output_type": "stream",
     "text": [
      "copying conv1_1  ->  conv1_1 0\n",
      "copying conv1_1  ->  conv1_1 1\n",
      "copying conv1_2  ->  conv1_2 0\n",
      "copying conv1_2  ->  conv1_2 1\n",
      "copying conv2_1  ->  conv2_1 0\n",
      "copying conv2_1  ->  conv2_1 1\n",
      "copying conv2_2  ->  conv2_2 0\n",
      "copying conv2_2  ->  conv2_2 1\n",
      "copying conv3_1  ->  conv3_1 0\n",
      "copying conv3_1  ->  conv3_1 1\n",
      "copying conv3_2  ->  conv3_2 0\n",
      "copying conv3_2  ->  conv3_2 1\n",
      "copying conv3_3  ->  conv3_3 0\n",
      "copying conv3_3  ->  conv3_3 1\n",
      "copying conv4_1  ->  conv4_1 0\n",
      "copying conv4_1  ->  conv4_1 1\n",
      "copying conv4_2  ->  conv4_2 0\n",
      "copying conv4_2  ->  conv4_2 1\n",
      "copying conv4_3  ->  conv4_3 0\n",
      "copying conv4_3  ->  conv4_3 1\n",
      "copying conv5_1  ->  conv5_1 0\n",
      "copying conv5_1  ->  conv5_1 1\n",
      "copying conv5_2  ->  conv5_2 0\n",
      "copying conv5_2  ->  conv5_2 1\n",
      "copying conv5_3  ->  conv5_3 0\n",
      "copying conv5_3  ->  conv5_3 1\n",
      "coercing fc6 0 from (4096, 25088) to (4096, 512, 7, 7)\n",
      "copying fc6  ->  fc6 1\n",
      "coercing fc7 0 from (4096, 4096) to (4096, 4096, 1, 1)\n",
      "copying fc7  ->  fc7 1\n",
      "dropping fc8\n"
     ]
    }
   ],
   "source": [
    "surgery.transplant(solver.net, net_ori)"
   ]
  },
  {
   "cell_type": "code",
   "execution_count": 17,
   "metadata": {
    "collapsed": true
   },
   "outputs": [],
   "source": [
    "    solver.net.save('../ilsvrc-nets/VGG_FCN.caffemodel')"
   ]
  },
  {
   "cell_type": "code",
   "execution_count": 15,
   "metadata": {
    "collapsed": true
   },
   "outputs": [],
   "source": [
    "net_ori.save('../ilsvrc-nets/VGG_ILSVRC_16_layers.caffemodel')"
   ]
  },
  {
   "cell_type": "code",
   "execution_count": null,
   "metadata": {
    "collapsed": true
   },
   "outputs": [],
   "source": []
  }
 ],
 "metadata": {
  "anaconda-cloud": {},
  "kernelspec": {
   "display_name": "Python 2",
   "language": "python",
   "name": "python2"
  },
  "language_info": {
   "codemirror_mode": {
    "name": "ipython",
    "version": 2
   },
   "file_extension": ".py",
   "mimetype": "text/x-python",
   "name": "python",
   "nbconvert_exporter": "python",
   "pygments_lexer": "ipython2",
   "version": "2.7.11"
  }
 },
 "nbformat": 4,
 "nbformat_minor": 1
}
